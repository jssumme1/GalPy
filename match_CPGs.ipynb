{
 "cells": [
  {
   "cell_type": "code",
   "execution_count": 352,
   "id": "df96b407-9efb-4d6d-a860-dedd556a8119",
   "metadata": {},
   "outputs": [],
   "source": [
    "import numpy as np\n",
    "from astropy.table import Table\n",
    "import matplotlib.pyplot as plt\n",
    "from matplotlib.ticker import MultipleLocator\n",
    "\n",
    "# latex font\n",
    "import matplotlib\n",
    "matplotlib.use('Agg')\n",
    "matplotlib.rc('font', family='serif', serif='cm')\n",
    "matplotlib.rc('text', usetex=True)\n",
    "matplotlib.rc('ps', usedistiller='xpdf')\n",
    "%matplotlib inline"
   ]
  },
  {
   "cell_type": "code",
   "execution_count": 353,
   "id": "e303a2d5-a1ee-4d50-a359-b61a8bad69c1",
   "metadata": {},
   "outputs": [],
   "source": [
    "cpg_cat = '/Users/jakesummers7200/JWST/PEARLS/PSFAGN-morphology/neptdf/cats/CPG_JWST_MAG_cat.txt'\n",
    "cpg_table = Table.read(cpg_cat, format='ascii')"
   ]
  },
  {
   "cell_type": "code",
   "execution_count": 354,
   "id": "0ecb5190-023e-43ef-8cc9-95f238f2704c",
   "metadata": {},
   "outputs": [],
   "source": [
    "# retrieve my catalog for each spoke\n",
    "spokes = ['spoke1a', 'spoke1b', 'spoke1ab', 'spoke2', 'spoke3', 'spoke4']\n",
    "cat_dict = {}\n",
    "for spoke in spokes:\n",
    "    spoke_cat = f'/Users/jakesummers7200/JWST/PEARLS/PSFAGN-morphology/neptdf/cats/{spoke}/nep-{spoke}_total_cat_extinction.txt'\n",
    "    spoke_table = Table.read(spoke_cat, format='ascii')\n",
    "    cat_dict[spoke] = spoke_table"
   ]
  },
  {
   "cell_type": "code",
   "execution_count": 355,
   "id": "3fd5d698-fa52-456d-ac15-24101cda4914",
   "metadata": {},
   "outputs": [],
   "source": [
    "paper_ids = {3: 1, 105: 2, 289: 3, 1620: 4, 1918: 5, 5143: 6, 5334: 7, 5991: 8, 6062: 9, 6084: 10, 6203: 11, 6271: 12, 6582: 13, 7900: 14, 7910: 15, 8064: 16, 8367: 17, 9253: 18, 9280: 19, 9634: 20, 10230: 21, 10696: 22, 11198: 23, 11875: 24, 12752: 25, 14462: 26, 14545: 27, 14657: 28, 15174: 29, 17650: 30, 17916: 31, 18011: 32, 18042: 33, 19480: 34, 20127: 35, 20308: 36, 20613: 37, 20940: 38, 22371: 39, 22440: 40, 22978: 41, 23204: 42, 24344: 43, 24698: 44, 25066: 45, 25603: 46, 26046: 47, 26215: 48, 27600: 49, 28493: 50, 30550: 51, 31620: 52, 32403: 53, 34180: 54, 34370: 55, 34604: 56, 35999: 57, 36425: 58, 36433: 59, 36457: 60, 36630: 61, 36778: 62, 36975: 63, 37192: 64, 38125: 65, 38917: 66}"
   ]
  },
  {
   "cell_type": "code",
   "execution_count": 361,
   "id": "76e869cd-1ff8-4fce-895f-284a8ed3201a",
   "metadata": {},
   "outputs": [
    {
     "name": "stderr",
     "output_type": "stream",
     "text": [
      "/var/folders/02/0r851hhj6xxcvp48_3vzfpg80000gn/T/ipykernel_23311/1759691988.py:49: DeprecationWarning: Conversion of an array with ndim > 0 to a scalar is deprecated, and will error in future. Ensure you extract a single element from your array before performing this operation. (Deprecated NumPy 1.25.)\n",
      "  my_id = int(cat[idx]['id'][0])\n"
     ]
    }
   ],
   "source": [
    "object_list = []\n",
    "cpg_new = cpg_table.copy() \n",
    "# match all objects\n",
    "for n, obj in enumerate(cpg_table):\n",
    "    # tolerance and make sure there are not multiple matches for the object\n",
    "    tol = 0.0002\n",
    "    matches = 0\n",
    "    \n",
    "    # get ra and dec of the object\n",
    "    ra = obj['RA']\n",
    "    dec = obj['DEC']\n",
    "    id = obj['id']\n",
    "\n",
    "    # account for projection effects\n",
    "    proj = abs(np.cos(dec*2*np.pi/360))\n",
    "\n",
    "    # loop through spokes\n",
    "    for spoke in spokes:\n",
    "        cat = cat_dict[spoke]\n",
    "        cat_ra = cat['RA']\n",
    "        cat_dec = cat['DEC']\n",
    "        \n",
    "        idx = np.where((np.absolute(cat_ra - ra) < tol/proj) & (np.absolute(cat_dec - dec) < tol))\n",
    "\n",
    "        if id == 18042 and spoke == 'spoke4':\n",
    "            idx = np.array([[1997-1]])\n",
    "        \n",
    "        if len(idx[0]) == 1:\n",
    "            cpg_new[n]['id'] = cat[idx]['id']\n",
    "            cpg_new[n]['RA'] = cat[idx]['RA']\n",
    "            cpg_new[n]['DEC'] = cat[idx]['DEC']\n",
    "            cpg_new[n]['F444W']     = cat[idx]['F444W']\n",
    "            cpg_new[n]['F444W_err'] = cat[idx]['F444W_err']\n",
    "            cpg_new[n]['F410M']     = cat[idx]['F410M']\n",
    "            cpg_new[n]['F410M_err'] = cat[idx]['F410M_err']\n",
    "            cpg_new[n]['F356W']     = cat[idx]['F356W']\n",
    "            cpg_new[n]['F356W_err'] = cat[idx]['F356W_err']\n",
    "            cpg_new[n]['F277W']     = cat[idx]['F277W']\n",
    "            cpg_new[n]['F277W_err'] = cat[idx]['F277W_err']\n",
    "            cpg_new[n]['F200W']     = cat[idx]['F200W']\n",
    "            cpg_new[n]['F200W_err'] = cat[idx]['F200W_err']\n",
    "            cpg_new[n]['F150W']     = cat[idx]['F150W']\n",
    "            cpg_new[n]['F150W_err'] = cat[idx]['F150W_err']\n",
    "            cpg_new[n]['F115W']     = cat[idx]['F115W']\n",
    "            cpg_new[n]['F115W_err'] = cat[idx]['F115W_err']\n",
    "            cpg_new[n]['F090W']     = cat[idx]['F090W']\n",
    "            cpg_new[n]['F090W_err'] = cat[idx]['F090W_err']\n",
    "\n",
    "            my_id = int(cat[idx]['id'][0])\n",
    "            num = my_id\n",
    "            object_list.append((spoke, num, paper_ids[id]))\n",
    "            matches += 1\n",
    "        elif len(idx[0]) > 1:\n",
    "            print(len(idx[0]), 'multiple matches')\n",
    "\n",
    "    if matches == 0:\n",
    "        print('no matches found', id)\n",
    "    if matches > 1:\n",
    "        print('multiple matches found', id)\n"
   ]
  },
  {
   "cell_type": "code",
   "execution_count": null,
   "id": "010cd4f0-7874-4c4d-990f-02a9ebac828b",
   "metadata": {},
   "outputs": [],
   "source": [
    "# id 18042 not matched, but just manually found it on the spoke 4 image to be id 1997\n",
    "# probably just eliminated because it has another galaxy right next to it"
   ]
  },
  {
   "cell_type": "code",
   "execution_count": 362,
   "id": "1861b450-bc50-4e57-8066-e36249d1f7d9",
   "metadata": {},
   "outputs": [],
   "source": [
    "# to get rid of glitchy table object\n",
    "object_list2 = []\n",
    "for obj in object_list:\n",
    "    object_list2.append((obj[0], int(obj[1]), obj[2]))"
   ]
  },
  {
   "cell_type": "code",
   "execution_count": 406,
   "id": "05bbdcf6-8ab0-4333-bbd4-2b68d1d5b21a",
   "metadata": {},
   "outputs": [
    {
     "data": {
      "image/png": "[encoded data removed]",
      "text/plain": [
       "<Figure size 1000x500 with 1 Axes>"
      ]
     },
     "metadata": {},
     "output_type": "display_data"
    }
   ],
   "source": [
    "fig, ax = plt.subplots(1,1)    \n",
    "fig.set_size_inches(10,5)\n",
    "\n",
    "filt = 'F444W'\n",
    "tol = 0.07\n",
    "\n",
    "diff = cpg_table[filt] - cpg_new[filt]\n",
    "diff = diff\n",
    "err = np.sqrt(cpg_table[f'{filt}_err']**2 + cpg_new[f'{filt}_err']**2)\n",
    "err = err\n",
    "mag = cpg_new[filt]\n",
    "mag = mag\n",
    "stdev = np.std(diff[np.absolute(np.array(diff)) < 1])\n",
    "\n",
    "ct = len(diff[np.absolute(np.array(diff)) < tol])\n",
    "\n",
    "ml1 = MultipleLocator(0.01)\n",
    "ml2 = MultipleLocator(0.25)\n",
    "\n",
    "ax.errorbar(mag, diff, err, color='black', fmt='o', capsize=4, ms=5)\n",
    "ax.plot([0,30], [0,0], ls='--', color='black')\n",
    "ax.text(17.7, 0.06, f'matched objects $=$ {ct}', fontsize=15)\n",
    "ax.text(17.7, 0.05, f'total objects $=$ {len(cpg_table)}', fontsize=15)\n",
    "ax.text(17.7, 0.04, f'$\\sigma =$ {stdev:.3f}', fontsize=15)\n",
    "\n",
    "ax.set_xlim(17.5,22.5)\n",
    "ax.set_ylim(-1*tol,tol)\n",
    "\n",
    "ax.set_xlabel('mag$_\\mathrm{F444W}$ [AB]', fontsize=20)\n",
    "ax.set_ylabel('Ortiz $\\N{MINUS SIGN}$ Summers [AB]', fontsize=20)\n",
    "\n",
    "ax.yaxis.set_minor_locator(ml1)\n",
    "ax.xaxis.set_minor_locator(ml2)\n",
    "\n",
    "ax.tick_params(axis='both', which='major', length=10, width=1, direction='in', labelsize='large', \n",
    "                 bottom=True, top=True, left=True, right=True)\n",
    "ax.tick_params(axis='both', which='minor', length=5, width=1, direction='in', labelsize='large', \n",
    "                 bottom=True, top=True, left=True, right=True)\n",
    "\n",
    "fig.tight_layout()\n",
    "fig.savefig('/Users/jakesummers7200/JWST/PEARLS/PSFAGN-morphology/neptdf/cats/CPG_mag_comparison_F444W.pdf')"
   ]
  },
  {
   "cell_type": "code",
   "execution_count": 407,
   "id": "06da00d9-3059-475a-a74b-7421dcfba6da",
   "metadata": {},
   "outputs": [
    {
     "name": "stdout",
     "output_type": "stream",
     "text": [
      "1\n"
     ]
    },
    {
     "data": {
      "text/html": [
       "<div><i>Table length=1</i>\n",
       "<table id=\"table5183948784\" class=\"table-striped table-bordered table-condensed\">\n",
       "<thead><tr><th>id</th><th>RA</th><th>DEC</th><th>F444W</th><th>F444W_err</th><th>F410M</th><th>F410M_err</th><th>F356W</th><th>F356W_err</th><th>F277W</th><th>F277W_err</th><th>F200W</th><th>F200W_err</th><th>F150W</th><th>F150W_err</th><th>F115W</th><th>F115W_err</th><th>F090W</th><th>F090W_err</th></tr></thead>\n",
       "<thead><tr><th>int64</th><th>float64</th><th>float64</th><th>float64</th><th>float64</th><th>float64</th><th>float64</th><th>float64</th><th>float64</th><th>float64</th><th>float64</th><th>float64</th><th>float64</th><th>float64</th><th>float64</th><th>float64</th><th>float64</th><th>float64</th><th>float64</th></tr></thead>\n",
       "<tr><td>3</td><td>260.6717519</td><td>65.7116883</td><td>17.2635</td><td>0.2571</td><td>17.0372</td><td>0.0159</td><td>17.0714</td><td>0.0063</td><td>16.6917</td><td>0.0015</td><td>16.6029</td><td>0.0003</td><td>16.862</td><td>0.0006</td><td>17.226</td><td>0.0006</td><td>17.7533</td><td>0.0009</td></tr>\n",
       "</table></div>"
      ],
      "text/plain": [
       "<Table length=1>\n",
       "  id       RA        DEC      F444W  F444W_err  F410M  ... F150W_err  F115W  F115W_err  F090W  F090W_err\n",
       "int64   float64    float64   float64  float64  float64 ...  float64  float64  float64  float64  float64 \n",
       "----- ----------- ---------- ------- --------- ------- ... --------- ------- --------- ------- ---------\n",
       "    3 260.6717519 65.7116883 17.2635    0.2571 17.0372 ...    0.0006  17.226    0.0006 17.7533    0.0009"
      ]
     },
     "execution_count": 407,
     "metadata": {},
     "output_type": "execute_result"
    }
   ],
   "source": [
    "# problematic object (MANY NONDETECTIONS)\n",
    "print(paper_ids[3])\n",
    "cpg_table[cpg_table['id'] == 3]"
   ]
  },
  {
   "cell_type": "code",
   "execution_count": 408,
   "id": "5b62da02-3de3-4bd8-9a8d-269a9bece4fd",
   "metadata": {},
   "outputs": [
    {
     "data": {
      "text/html": [
       "<div><i>Table length=1</i>\n",
       "<table id=\"table5204686112\" class=\"table-striped table-bordered table-condensed\">\n",
       "<thead><tr><th>id</th><th>RA</th><th>DEC</th><th>F444W</th><th>F444W_err</th><th>F410M</th><th>F410M_err</th><th>F356W</th><th>F356W_err</th><th>F277W</th><th>F277W_err</th><th>F200W</th><th>F200W_err</th><th>F150W</th><th>F150W_err</th><th>F115W</th><th>F115W_err</th><th>F090W</th><th>F090W_err</th></tr></thead>\n",
       "<thead><tr><th>int64</th><th>float64</th><th>float64</th><th>float64</th><th>float64</th><th>float64</th><th>float64</th><th>float64</th><th>float64</th><th>float64</th><th>float64</th><th>float64</th><th>float64</th><th>float64</th><th>float64</th><th>float64</th><th>float64</th><th>float64</th><th>float64</th></tr></thead>\n",
       "<tr><td>3</td><td>260.6717185</td><td>65.7115953</td><td>-0.00158692</td><td>0.0</td><td>17.06552494</td><td>0.0001</td><td>-0.0023149399999999997</td><td>0.0</td><td>-0.0038446</td><td>0.0</td><td>-0.0075174199999999995</td><td>0.0</td><td>16.84656476</td><td>0.0</td><td>17.1983187</td><td>0.0</td><td>17.715101859999997</td><td>0.0</td></tr>\n",
       "</table></div>"
      ],
      "text/plain": [
       "<Table length=1>\n",
       "  id       RA        DEC        F444W    F444W_err ...   F115W    F115W_err       F090W        F090W_err\n",
       "int64   float64    float64     float64    float64  ...  float64    float64       float64        float64 \n",
       "----- ----------- ---------- ----------- --------- ... ---------- --------- ------------------ ---------\n",
       "    3 260.6717185 65.7115953 -0.00158692       0.0 ... 17.1983187       0.0 17.715101859999997       0.0"
      ]
     },
     "execution_count": 408,
     "metadata": {},
     "output_type": "execute_result"
    }
   ],
   "source": [
    "# look for bad matches in other filters\n",
    "filt = 'F444W'\n",
    "tol = 0.07\n",
    "diff = np.array(cpg_table[filt] - cpg_new[filt])\n",
    "idx = np.where(np.absolute(diff) > tol)\n",
    "cpg_new[idx]"
   ]
  },
  {
   "cell_type": "code",
   "execution_count": 409,
   "id": "654f4566-386c-4160-88a0-9a1f9a775647",
   "metadata": {},
   "outputs": [
    {
     "data": {
      "text/html": [
       "<div><i>Table length=1</i>\n",
       "<table id=\"table5204686736\" class=\"table-striped table-bordered table-condensed\">\n",
       "<thead><tr><th>id</th><th>RA</th><th>DEC</th><th>F444W</th><th>F444W_err</th><th>F410M</th><th>F410M_err</th><th>F356W</th><th>F356W_err</th><th>F277W</th><th>F277W_err</th><th>F200W</th><th>F200W_err</th><th>F150W</th><th>F150W_err</th><th>F115W</th><th>F115W_err</th><th>F090W</th><th>F090W_err</th></tr></thead>\n",
       "<thead><tr><th>int64</th><th>float64</th><th>float64</th><th>float64</th><th>float64</th><th>float64</th><th>float64</th><th>float64</th><th>float64</th><th>float64</th><th>float64</th><th>float64</th><th>float64</th><th>float64</th><th>float64</th><th>float64</th><th>float64</th><th>float64</th><th>float64</th></tr></thead>\n",
       "<tr><td>3</td><td>260.6717519</td><td>65.7116883</td><td>17.2635</td><td>0.2571</td><td>17.0372</td><td>0.0159</td><td>17.0714</td><td>0.0063</td><td>16.6917</td><td>0.0015</td><td>16.6029</td><td>0.0003</td><td>16.862</td><td>0.0006</td><td>17.226</td><td>0.0006</td><td>17.7533</td><td>0.0009</td></tr>\n",
       "</table></div>"
      ],
      "text/plain": [
       "<Table length=1>\n",
       "  id       RA        DEC      F444W  F444W_err  F410M  ... F150W_err  F115W  F115W_err  F090W  F090W_err\n",
       "int64   float64    float64   float64  float64  float64 ...  float64  float64  float64  float64  float64 \n",
       "----- ----------- ---------- ------- --------- ------- ... --------- ------- --------- ------- ---------\n",
       "    3 260.6717519 65.7116883 17.2635    0.2571 17.0372 ...    0.0006  17.226    0.0006 17.7533    0.0009"
      ]
     },
     "execution_count": 409,
     "metadata": {},
     "output_type": "execute_result"
    }
   ],
   "source": [
    "cpg_table[idx]"
   ]
  },
  {
   "cell_type": "code",
   "execution_count": 410,
   "id": "27f32032-d55f-4954-a617-de9863d99da6",
   "metadata": {},
   "outputs": [],
   "source": [
    "# Notes!!!\n",
    "\n",
    "# id 3 = cpg 1 is not detected in most filters\n",
    "# my id 8483 = cpg 29 is not detected in F277W\n",
    "# cpg 33 is not detected at all -- fixed -- now detected in all filters"
   ]
  },
  {
   "cell_type": "code",
   "execution_count": 416,
   "id": "9c95fb9c-f508-4d8d-84e2-9fb3db9ac43a",
   "metadata": {},
   "outputs": [],
   "source": [
    "# write the list of matched objects\n",
    "with open('/Users/jakesummers7200/JWST/PEARLS/PSFAGN-morphology/neptdf/cats/cpg_objects.txt', 'w') as f:\n",
    "    f.write('#spoke obj_id paper_id\\n')\n",
    "    for obj in object_list:\n",
    "        f.write(f'{obj[0]} {obj[1]} {obj[2]}\\n')\n",
    "        "
   ]
  },
  {
   "cell_type": "code",
   "execution_count": null,
   "id": "6318196a-ba10-4ea4-802b-9995f730ab88",
   "metadata": {},
   "outputs": [],
   "source": []
  }
 ],
 "metadata": {
  "kernelspec": {
   "display_name": "Python 3 (ipykernel)",
   "language": "python",
   "name": "python3"
  },
  "language_info": {
   "codemirror_mode": {
    "name": "ipython",
    "version": 3
   },
   "file_extension": ".py",
   "mimetype": "text/x-python",
   "name": "python",
   "nbconvert_exporter": "python",
   "pygments_lexer": "ipython3",
   "version": "3.9.18"
  }
 },
 "nbformat": 4,
 "nbformat_minor": 5
}
