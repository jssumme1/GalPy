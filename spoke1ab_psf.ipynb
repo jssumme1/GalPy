{
 "cells": [
  {
   "cell_type": "code",
   "execution_count": 1,
   "id": "248e403e-e88c-4aa2-a499-e43a74eef427",
   "metadata": {},
   "outputs": [],
   "source": [
    "from astropy.io import fits\n",
    "import os\n",
    "from glob import glob"
   ]
  },
  {
   "cell_type": "code",
   "execution_count": 5,
   "id": "99c21ded-a05c-4c8f-a811-83e951557fcd",
   "metadata": {},
   "outputs": [],
   "source": [
    "spoke1a_psf = glob('/Users/jakesummers7200/JWST/PEARLS/PSFAGN-morphology/neptdf/psfs/spoke1a/*_webbpsf.fits')\n",
    "spoke1b_psf = glob('/Users/jakesummers7200/JWST/PEARLS/PSFAGN-morphology/neptdf/psfs/spoke1b/*_webbpsf.fits')\n",
    "spoke1a_psf.sort()\n",
    "spoke1b_psf.sort()"
   ]
  },
  {
   "cell_type": "code",
   "execution_count": 17,
   "id": "71b29757-7918-4fc3-95a4-d1ecb6ff9730",
   "metadata": {},
   "outputs": [
    {
     "name": "stdout",
     "output_type": "stream",
     "text": [
      "/Users/jakesummers7200/JWST/PEARLS/PSFAGN-morphology/neptdf/psfs/spoke1ab/F090W_webbpsf.fits\n",
      "/Users/jakesummers7200/JWST/PEARLS/PSFAGN-morphology/neptdf/psfs/spoke1ab/F115W_webbpsf.fits\n",
      "/Users/jakesummers7200/JWST/PEARLS/PSFAGN-morphology/neptdf/psfs/spoke1ab/F150W_webbpsf.fits\n",
      "/Users/jakesummers7200/JWST/PEARLS/PSFAGN-morphology/neptdf/psfs/spoke1ab/F200W_webbpsf.fits\n",
      "/Users/jakesummers7200/JWST/PEARLS/PSFAGN-morphology/neptdf/psfs/spoke1ab/F277W_webbpsf.fits\n",
      "/Users/jakesummers7200/JWST/PEARLS/PSFAGN-morphology/neptdf/psfs/spoke1ab/F356W_webbpsf.fits\n",
      "/Users/jakesummers7200/JWST/PEARLS/PSFAGN-morphology/neptdf/psfs/spoke1ab/F410M_webbpsf.fits\n",
      "/Users/jakesummers7200/JWST/PEARLS/PSFAGN-morphology/neptdf/psfs/spoke1ab/F444W_webbpsf.fits\n"
     ]
    }
   ],
   "source": [
    "for i in range(len(spoke1a_psf)):\n",
    "    with fits.open(spoke1a_psf[i]) as hdul:\n",
    "        data_1a = hdul[0].data\n",
    "    with fits.open(spoke1b_psf[i]) as hdul:\n",
    "        data_1b = hdul[0].data\n",
    "        hdul[0].data = (data_1a + data_1b) / 2\n",
    "        print(spoke1a_psf[i].replace('spoke1a', 'spoke1ab'))\n",
    "        hdul.writeto(spoke1a_psf[i].replace('spoke1a', 'spoke1ab'), overwrite=True)"
   ]
  },
  {
   "cell_type": "code",
   "execution_count": null,
   "id": "0c1c1178-4908-48bb-a515-62fa1d9fd30b",
   "metadata": {},
   "outputs": [],
   "source": []
  }
 ],
 "metadata": {
  "kernelspec": {
   "display_name": "Python 3 (ipykernel)",
   "language": "python",
   "name": "python3"
  },
  "language_info": {
   "codemirror_mode": {
    "name": "ipython",
    "version": 3
   },
   "file_extension": ".py",
   "mimetype": "text/x-python",
   "name": "python",
   "nbconvert_exporter": "python",
   "pygments_lexer": "ipython3",
   "version": "3.9.18"
  }
 },
 "nbformat": 4,
 "nbformat_minor": 5
}
